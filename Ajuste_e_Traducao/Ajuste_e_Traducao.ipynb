{
 "cells": [
  {
   "cell_type": "markdown",
   "id": "e3c06949",
   "metadata": {},
   "source": [
    "<center> <img src=\"logo_ifba.jpg\" alt=\"jpg_python\" width=\"100\" height=\"\"> </center>\n",
    "<br><br>\n",
    "<div align=\"center\"><span style=\"font-size: 26px;\"><strong>Dicas e Truques</strong></span>\n",
    "</div><br>\n",
    "<div align=\"center\"><span style=\"font-size: 16px;\"><strong>by Allan de Sousa Soares</strong></span>\n",
    "</div><br></center>\n",
    "<center> <img src=\"python_gif.gif\" alt=\"gif_python\" width=\"80\"> </center>"
   ]
  },
  {
   "cell_type": "markdown",
   "id": "4aea2267",
   "metadata": {},
   "source": [
    "<div style=\"border: 2px solid black; padding: 10px; width: 95%; background-color: lightgray; display: flex; align-items: center;\">\n",
    "    <h1 style=\"color: red; text-align: center; margin: auto;\"><span style=\"font-size: 20px;\">\n",
    "        Ajuste de Texto e Tradução Usando o Python e o Google Translate\n",
    "    </h1>\n",
    "</div>"
   ]
  },
  {
   "cell_type": "markdown",
   "id": "c1fdc54d",
   "metadata": {},
   "source": [
    "Este é um código que lhe permite copiar um texto de um pdf e formatá-lo retirando espaços vazios desnecessários (em excesso). Ele se mostra especialmente útil quando se quer copiar um trecho de um pdf e traduzí-lo no translate da google. \n",
    "\n",
    "Considere o exemplo a seguir contendo um fragmento retirado de ([Bishop](https://www.microsoft.com/en-us/research/uploads/prod/2006/01/Bishop-Pattern-Recognition-and-Machine-Learning-2006.pdf), 2006, pg.21) o qual desejamos traduzir (observe os direitos do autor):"
   ]
  },
  {
   "cell_type": "markdown",
   "id": "f41a059f",
   "metadata": {},
   "source": [
    "<center> <img src=\"fig1.jpg\" alt=\"jpg_python\" width=\"600\" height=\"\"> </center>"
   ]
  },
  {
   "cell_type": "markdown",
   "id": "1e281dcb",
   "metadata": {},
   "source": [
    "Simplemente copiando o texto diretamente do livro e colando-o no google drive (e colando o resultado no word, por exemplo), obtemos:"
   ]
  },
  {
   "cell_type": "markdown",
   "id": "6537ba12",
   "metadata": {},
   "source": [
    "<center> <img src=\"fig2.jpg\" alt=\"jpg_python\" width=\"500\" height=\"\"> </center>"
   ]
  },
  {
   "cell_type": "markdown",
   "id": "b5cbc636",
   "metadata": {},
   "source": [
    "Você deve ter notado que, além da péssima formatação (texto justificado), temos ainda a desconexão em partes do texto. Isto ocorre devido ao processo de copiar um texto de um pdf, em geral, trazer alguns espaços em branco extras que o tradutor do google entende como uma desconexão no texto. Felizmente, a solução deste problema é bastante simples. Basta-nos remover tais espaços extras deixando exatamente um único espaço entre as palavras. É exatamente isto que o código a seguir faz. Basta executar as duas células seguintes e copiar o texto de saída (TEXTO AJUSTADO) e jogá-lo no [google translate](https://www.google.com/search?q=translate)."
   ]
  },
  {
   "cell_type": "code",
   "execution_count": 1,
   "id": "a7f2dd57",
   "metadata": {
    "ExecuteTime": {
     "end_time": "2024-03-20T00:05:45.010271Z",
     "start_time": "2024-03-20T00:05:44.985631Z"
    }
   },
   "outputs": [],
   "source": [
    "import re\n",
    "\n",
    "def corrigir_espacos(texto):\n",
    "    # Substitui múltiplos espaços por um único espaço\n",
    "    texto_corrigido = re.sub(r'\\s+', ' ', texto)\n",
    "    return texto_corrigido"
   ]
  },
  {
   "cell_type": "code",
   "execution_count": 11,
   "id": "9993208d",
   "metadata": {
    "ExecuteTime": {
     "end_time": "2024-03-20T00:10:10.717915Z",
     "start_time": "2024-03-20T00:10:10.712666Z"
    }
   },
   "outputs": [
    {
     "name": "stdout",
     "output_type": "stream",
     "text": [
      "SEGUE O TEXTO ORIGINAL\n",
      "\n",
      "Consider an uncertain event, for example whether the moon was once in its own\n",
      "orbit around the sun, or whether the Arctic ice cap will have disappeared by the end\n",
      "of the century. These are not events that can be repeated numerous times in order\n",
      "to define a notion of probability as we did earlier in the context of boxes of fruit.\n",
      "Nevertheless, we will generally have some idea, for example, of how quickly we\n",
      "think the polar ice is melting. If we now obtain fresh evidence, for instance from a\n",
      "new Earth observation satellite gathering novel forms of diagnostic information, we\n",
      "may revise our opinion on the rate of ice loss. Our assessment of such matters will\n",
      "affect the actions we take, for instance the extent to which we endeavour to reduce\n",
      "the emission of greenhouse gasses. In such circumstances, we would like to be able\n",
      "to quantify our expression of uncertainty and make precise revisions of uncertainty in\n",
      "the light of new evidence, as well as subsequently to be able to take optimal actions\n",
      "or decisions as a consequence. This can all be achieved through the elegant, and very\n",
      "general, Bayesian interpretation of probability.\n",
      "\n",
      "SEGUE O TEXTO AJUSTADO\n",
      "\n",
      "Consider an uncertain event, for example whether the moon was once in its own orbit around the sun, or whether the Arctic ice cap will have disappeared by the end of the century. These are not events that can be repeated numerous times in order to define a notion of probability as we did earlier in the context of boxes of fruit. Nevertheless, we will generally have some idea, for example, of how quickly we think the polar ice is melting. If we now obtain fresh evidence, for instance from a new Earth observation satellite gathering novel forms of diagnostic information, we may revise our opinion on the rate of ice loss. Our assessment of such matters will affect the actions we take, for instance the extent to which we endeavour to reduce the emission of greenhouse gasses. In such circumstances, we would like to be able to quantify our expression of uncertainty and make precise revisions of uncertainty in the light of new evidence, as well as subsequently to be able to take optimal actions or decisions as a consequence. This can all be achieved through the elegant, and very general, Bayesian interpretation of probability.\n"
     ]
    }
   ],
   "source": [
    "# Coloque seu texto entre aspas triplas '''texto..'''\n",
    "\n",
    "texto_original = '''Consider an uncertain event, for example whether the moon was once in its own\n",
    "orbit around the sun, or whether the Arctic ice cap will have disappeared by the end\n",
    "of the century. These are not events that can be repeated numerous times in order\n",
    "to define a notion of probability as we did earlier in the context of boxes of fruit.\n",
    "Nevertheless, we will generally have some idea, for example, of how quickly we\n",
    "think the polar ice is melting. If we now obtain fresh evidence, for instance from a\n",
    "new Earth observation satellite gathering novel forms of diagnostic information, we\n",
    "may revise our opinion on the rate of ice loss. Our assessment of such matters will\n",
    "affect the actions we take, for instance the extent to which we endeavour to reduce\n",
    "the emission of greenhouse gasses. In such circumstances, we would like to be able\n",
    "to quantify our expression of uncertainty and make precise revisions of uncertainty in\n",
    "the light of new evidence, as well as subsequently to be able to take optimal actions\n",
    "or decisions as a consequence. This can all be achieved through the elegant, and very\n",
    "general, Bayesian interpretation of probability.'''\n",
    "\n",
    "print('SEGUE O TEXTO ORIGINAL\\n')\n",
    "print(texto_original)\n",
    "\n",
    "print('\\nSEGUE O TEXTO AJUSTADO\\n')\n",
    "print(corrigir_espacos(texto_original))"
   ]
  },
  {
   "cell_type": "markdown",
   "id": "b0ce3d08",
   "metadata": {},
   "source": [
    "O resultado da tradução após o ajuste é simplesmente surpreendente. Acompanhe na figura a seguir:<br><br>\n",
    "<center> <img src=\"fig3.jpg\" alt=\"jpg_python\" width=\"500\" height=\"\"> </center>"
   ]
  },
  {
   "cell_type": "markdown",
   "id": "f95a4ff7",
   "metadata": {},
   "source": [
    "É possível ainda traduzirmos diretamente neste ambiente Jupyter Notebook / Colab, contudo, a tradução não é tão otimizada quanto à fornecida diretamente no google translate."
   ]
  },
  {
   "cell_type": "code",
   "execution_count": null,
   "id": "1f1f6618",
   "metadata": {
    "ExecuteTime": {
     "end_time": "2024-03-19T21:31:38.678424Z",
     "start_time": "2024-03-19T21:31:36.465917Z"
    }
   },
   "outputs": [],
   "source": [
    "# Primeiro, instale a biblioteca googletrans se não estiver instalada:\n",
    "# pip install googletrans==4.0.0-rc1\n",
    "\n",
    "from googletrans import Translator, LANGUAGES\n",
    "import re\n",
    "\n",
    "def formatar_e_traduzir(texto, lang='pt'):\n",
    "    # Substitui múltiplos espaços por um único espaço no texto original\n",
    "    texto_formatado = re.sub(r'\\s+', ' ', texto)\n",
    "    \n",
    "    # Cria um objeto tradutor\n",
    "    tradutor = Translator()\n",
    "    \n",
    "    # Traduz o texto formatado para o idioma desejado\n",
    "    texto_traduzido = tradutor.translate(texto_formatado, dest=lang).text\n",
    "    \n",
    "    return texto_traduzido\n",
    "\n",
    "\n",
    "texto_formatado_e_traduzido = formatar_e_traduzir(texto_original)\n",
    "print(texto_formatado_e_traduzido)\n"
   ]
  },
  {
   "cell_type": "markdown",
   "id": "558baa8d",
   "metadata": {},
   "source": [
    "É possível ainda (essa você vai gostar) copiar o texto aqui e já ver sua tradução no google tranlate:"
   ]
  },
  {
   "cell_type": "code",
   "execution_count": 1,
   "id": "ad9b600f",
   "metadata": {
    "ExecuteTime": {
     "end_time": "2024-03-19T21:47:28.825973Z",
     "start_time": "2024-03-19T21:47:28.814709Z"
    }
   },
   "outputs": [],
   "source": [
    "import webbrowser\n",
    "import urllib.parse\n",
    "import re\n",
    "\n",
    "def traduzir_texto_para_portugues(texto_original):\n",
    "    def corrigir_espacos(texto):\n",
    "        # Substitui múltiplos espaços por um único espaço\n",
    "        return re.sub(r'\\s+', ' ', texto)\n",
    "\n",
    "    # Codifica o texto para URL após corrigir os espaços\n",
    "    texto_url = urllib.parse.quote_plus(corrigir_espacos(texto_original))\n",
    "    \n",
    "    # Cria a URL diretamente para o Google Tradutor com auto-detecção de idioma de origem e destino como português\n",
    "    url = f\"https://translate.google.com/?sl=auto&tl=pt&text={texto_url}&op=translate\"\n",
    "    \n",
    "    # Abre a URL no navegador padrão\n",
    "    webbrowser.open(url)"
   ]
  },
  {
   "cell_type": "code",
   "execution_count": 2,
   "id": "0c95851a",
   "metadata": {
    "ExecuteTime": {
     "end_time": "2024-03-19T21:47:29.666544Z",
     "start_time": "2024-03-19T21:47:29.382906Z"
    }
   },
   "outputs": [],
   "source": [
    "# Aqui você pode colocar o texto que deseja traduzir\n",
    "texto_para_traduzir = '''Consider an uncertain event, for example whether the moon was once in its own\n",
    "orbit around the sun, or whether the Arctic ice cap will have disappeared by the end\n",
    "of the century. These are not events that can be repeated numerous times in order\n",
    "to define a notion of probability as we did earlier in the context of boxes of fruit.\n",
    "Nevertheless, we will generally have some idea, for example, of how quickly we\n",
    "think the polar ice is melting. If we now obtain fresh evidence, for instance from a\n",
    "new Earth observation satellite gathering novel forms of diagnostic information, we\n",
    "may revise our opinion on the rate of ice loss. Our assessment of such matters will\n",
    "affect the actions we take, for instance the extent to which we endeavour to reduce\n",
    "the emission of greenhouse gasses. In such circumstances, we would like to be able\n",
    "to quantify our expression of uncertainty and make precise revisions of uncertainty in\n",
    "the light of new evidence, as well as subsequently to be able to take optimal actions\n",
    "or decisions as a consequence. This can all be achieved through the elegant, and very\n",
    "general, Bayesian interpretation of probability.'''\n",
    "\n",
    "# Chamada da função para traduzir o texto\n",
    "traduzir_texto_para_portugues(texto_para_traduzir)"
   ]
  }
 ],
 "metadata": {
  "kernelspec": {
   "display_name": "Python 3 (ipykernel)",
   "language": "python",
   "name": "python3"
  },
  "language_info": {
   "codemirror_mode": {
    "name": "ipython",
    "version": 3
   },
   "file_extension": ".py",
   "mimetype": "text/x-python",
   "name": "python",
   "nbconvert_exporter": "python",
   "pygments_lexer": "ipython3",
   "version": "3.11.5"
  }
 },
 "nbformat": 4,
 "nbformat_minor": 5
}
