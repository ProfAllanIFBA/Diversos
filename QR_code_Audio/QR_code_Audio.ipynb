{
 "cells": [
  {
   "cell_type": "markdown",
   "id": "a9c6e75b",
   "metadata": {},
   "source": [
    "# Implementação de Localização Via QR Code"
   ]
  },
  {
   "cell_type": "markdown",
   "id": "6db5fd50",
   "metadata": {},
   "source": [
    "# Módulos Necessários"
   ]
  },
  {
   "cell_type": "code",
   "execution_count": null,
   "id": "e5396071",
   "metadata": {
    "ExecuteTime": {
     "end_time": "2025-04-03T22:12:15.204657Z",
     "start_time": "2025-04-03T22:12:04.786477Z"
    }
   },
   "outputs": [],
   "source": [
    "!pip install opencv-python pyzbar pygame"
   ]
  },
  {
   "cell_type": "code",
   "execution_count": null,
   "id": "d561aa6c",
   "metadata": {
    "ExecuteTime": {
     "end_time": "2025-04-03T22:16:41.261357Z",
     "start_time": "2025-04-03T22:16:33.842465Z"
    }
   },
   "outputs": [],
   "source": [
    "!pip install pillow pyzbar pygame"
   ]
  },
  {
   "cell_type": "markdown",
   "id": "ffcb1912",
   "metadata": {},
   "source": [
    "## Gerador de QR Code"
   ]
  },
  {
   "cell_type": "markdown",
   "id": "4872d596",
   "metadata": {},
   "source": [
    "O código a seguir cria um QR code com o nome do audio que irá rodar. Para tanto salve os audios com o nome que irá colocar nos QR codes. Por exemplo, para abrir o \"audio_1\" execute o código a seguir e coloque \"audio_1\"."
   ]
  },
  {
   "cell_type": "code",
   "execution_count": null,
   "id": "3404fe3f",
   "metadata": {
    "ExecuteTime": {
     "end_time": "2025-04-03T23:59:26.557038Z",
     "start_time": "2025-04-03T23:59:23.949630Z"
    }
   },
   "outputs": [],
   "source": [
    "import qrcode\n",
    "\n",
    "def gerar_qrcode(nome):\n",
    "    \"\"\"\n",
    "    Gera um QR Code com o mesmo nome no conteúdo e no arquivo de saída.\n",
    "    Formato: 'audio_x' (ex: audio_1)\n",
    "    \"\"\"\n",
    "    # Garante que o nome termina com .png\n",
    "    nome_arquivo = f\"{nome}.png\"\n",
    "    \n",
    "    # Cria o QR Code\n",
    "    qr = qrcode.QRCode(\n",
    "        version=1,\n",
    "        error_correction=qrcode.constants.ERROR_CORRECT_L,\n",
    "        box_size=10,\n",
    "        border=4,\n",
    "    )\n",
    "    qr.add_data(nome)  # Usa o mesmo nome como conteúdo\n",
    "    qr.make(fit=True)\n",
    "    \n",
    "    # Salva a imagem\n",
    "    img = qr.make_image(fill_color=\"black\", back_color=\"white\")\n",
    "    img.save(nome_arquivo)\n",
    "    \n",
    "    print(f\"QR Code gerado: '{nome_arquivo}' (Contém: '{nome}')\")\n",
    "\n",
    "if __name__ == \"__main__\":\n",
    "    nome = input(\"Digite o nome no formato 'audio_x' (ex: audio_1): \").strip()\n",
    "    if not nome.startswith('audio_'):\n",
    "        print(\"⚠️O nome deve começar com 'audio_'\")\n",
    "    else:\n",
    "        gerar_qrcode(nome)"
   ]
  },
  {
   "cell_type": "markdown",
   "id": "700c4927",
   "metadata": {},
   "source": [
    "## Programa de Abertura da Webcam e Captura Para Captura do QR Code"
   ]
  },
  {
   "cell_type": "markdown",
   "id": "35eab2fa",
   "metadata": {},
   "source": [
    "Os audios a serem reproduzidos devem estar na pasta \"audios\"."
   ]
  },
  {
   "cell_type": "code",
   "execution_count": null,
   "id": "935f8897",
   "metadata": {
    "ExecuteTime": {
     "end_time": "2025-04-04T00:14:28.978692Z",
     "start_time": "2025-04-04T00:13:26.159775Z"
    }
   },
   "outputs": [],
   "source": [
    "import cv2\n",
    "from pyzbar import pyzbar\n",
    "import pygame\n",
    "import os\n",
    "import re\n",
    "import time\n",
    "\n",
    "# Configuration\n",
    "AUDIO_FOLDER = \"audios\"\n",
    "CAMERA_INDEX = 2\n",
    "AUDIO_DELAY = 3  # 3 second delay between same audio plays\n",
    "\n",
    "# Initialize audio mixer\n",
    "pygame.mixer.init()\n",
    "\n",
    "def setup_camera(index=0):\n",
    "    \"\"\"Initialize and return camera capture object\"\"\"\n",
    "    camera = cv2.VideoCapture(index)\n",
    "    if camera.isOpened():\n",
    "        print(f\"✅ Camera {index} connected (Iriun Webcam)\")\n",
    "        return camera\n",
    "    print(f\"❌ Camera {index} not found. Trying next index...\")\n",
    "    return setup_camera(index + 1)\n",
    "\n",
    "def clean_filename(text):\n",
    "    \"\"\"Sanitize filename and ensure .mp3 extension\"\"\"\n",
    "    clean = re.sub(r'[^a-zA-Z0-9_.]', '', text)\n",
    "    if not clean.lower().endswith('.mp3'):\n",
    "        clean += '.mp3'\n",
    "    return clean.lower()\n",
    "\n",
    "def find_audio_file(qr_text, folder):\n",
    "    \"\"\"Locate audio file matching QR code content\"\"\"\n",
    "    filename = clean_filename(qr_text)\n",
    "    print(f\"Searching for: '{filename}'\")\n",
    "    \n",
    "    for file in os.listdir(folder):\n",
    "        if file.lower() == filename:\n",
    "            return os.path.join(folder, file)\n",
    "    return None\n",
    "\n",
    "# Main execution\n",
    "def main():\n",
    "    camera = setup_camera(CAMERA_INDEX)\n",
    "    \n",
    "    if not os.path.exists(AUDIO_FOLDER):\n",
    "        print(f\"⚠️ Folder '{AUDIO_FOLDER}' not found!\")\n",
    "        return\n",
    "\n",
    "    print(\"🔍 Point camera at QR code...\")\n",
    "    \n",
    "    last_audio = None\n",
    "    last_play_time = 0\n",
    "\n",
    "    while True:\n",
    "        success, frame = camera.read()\n",
    "        if not success:\n",
    "            break\n",
    "\n",
    "        gray = cv2.cvtColor(frame, cv2.COLOR_BGR2GRAY)\n",
    "        codes = pyzbar.decode(gray)\n",
    "        \n",
    "        for code in codes:\n",
    "            text = code.data.decode(\"utf-8\").strip()\n",
    "            print(f\"QR detected: '{text}'\")\n",
    "            \n",
    "            audio_path = find_audio_file(text, AUDIO_FOLDER)\n",
    "            \n",
    "            if audio_path:\n",
    "                current_time = time.time()\n",
    "                if (audio_path != last_audio or \n",
    "                    (current_time - last_play_time) >= AUDIO_DELAY):\n",
    "                    try:\n",
    "                        pygame.mixer.music.load(audio_path)\n",
    "                        pygame.mixer.music.play()\n",
    "                        print(f\"🎵 Playing: {os.path.basename(audio_path)}\")\n",
    "                        last_audio = audio_path\n",
    "                        last_play_time = current_time\n",
    "                        while pygame.mixer.music.get_busy():\n",
    "                            cv2.waitKey(100)\n",
    "                    except Exception as e:\n",
    "                        print(f\"Audio error: {e}\")\n",
    "                else:\n",
    "                    print(f\"⏳ Waiting {AUDIO_DELAY}s to repeat audio...\")\n",
    "            else:\n",
    "                print(f\"⚠️ Audio not found for: '{text}'\")\n",
    "                print(f\"Available files: {os.listdir(AUDIO_FOLDER)}\")\n",
    "            \n",
    "            # Draw rectangle around QR code\n",
    "            x, y, w, h = code.rect\n",
    "            cv2.rectangle(frame, (x, y), (x + w, y + h), (0, 255, 0), 2)\n",
    "        \n",
    "        cv2.imshow(\"QR Code Audio Player\", frame)\n",
    "        \n",
    "        if cv2.waitKey(1) & 0xFF == ord('q'):\n",
    "            break\n",
    "\n",
    "    camera.release()\n",
    "    cv2.destroyAllWindows()\n",
    "\n",
    "if __name__ == \"__main__\":\n",
    "    main()"
   ]
  }
 ],
 "metadata": {
  "kernelspec": {
   "display_name": "Python 3 (ipykernel)",
   "language": "python",
   "name": "python3"
  },
  "language_info": {
   "codemirror_mode": {
    "name": "ipython",
    "version": 3
   },
   "file_extension": ".py",
   "mimetype": "text/x-python",
   "name": "python",
   "nbconvert_exporter": "python",
   "pygments_lexer": "ipython3",
   "version": "3.11.5"
  }
 },
 "nbformat": 4,
 "nbformat_minor": 5
}
